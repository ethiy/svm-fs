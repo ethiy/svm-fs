{
 "cells": [
  {
   "cell_type": "markdown",
   "metadata": {},
   "source": [
    "# SVM et Sélection d'attribut\n",
    "\n",
    "\n",
    "\n",
    "## Variables d'environement\n",
    "\n",
    "Pensez à vérifier les variables d'environement:"
   ]
  },
  {
   "cell_type": "code",
   "execution_count": 1,
   "metadata": {
    "scrolled": true
   },
   "outputs": [
    {
     "name": "stdout",
     "output_type": "stream",
     "text": [
      "3.5.2 (default, Nov 23 2017, 16:37:01) \n",
      "[GCC 5.4.0 20160609]\n",
      "['', '/usr/lib/python35.zip', '/usr/lib/python3.5', '/usr/lib/python3.5/plat-x86_64-linux-gnu', '/usr/lib/python3.5/lib-dynload', '/usr/local/lib/python3.5/dist-packages', '/usr/lib/python3/dist-packages', '/usr/local/lib/python3.5/dist-packages/IPython/extensions', '/home/ethiy/.ipython']\n"
     ]
    }
   ],
   "source": [
    "import sys\n",
    "print(sys.version)\n",
    "print(sys.path)"
   ]
  },
  {
   "cell_type": "markdown",
   "metadata": {},
   "source": [
    "## Séparation linéaire\n",
    "\n",
    "Le but de cette partie est de comparer le SVM linéaire à un autre exemple de classifieur linéaire: le Perceptron. On commence d'abords par rappeler rapidement le principe du Perceptron.\n",
    "\n",
    "### Perceptron\n",
    "\n",
    "L'algorithm du Perceptron date des [travaux de Frank Rosenblatt](http://psycnet.apa.org/record/1959-09865-001). Le but était de modéliser l'action des neurones. Ce modèle va être ensuite utilisé pour contruire des réseaux de neurones complexes et c'est la base de toute les méthodes de Deep Learning. Le modèle donne pour chaque attribut $i \\in \\{1,2, \\dots,d\\}$ de la donnée d'entrée $x = \\begin{pmatrix}x_1\\\\ x_2\\\\ \\vdots \\\\x_d\\end{pmatrix}$ un poids $w_i$. Pour chaque entrée $x$ on lui applique linéairement un vecteur de poids $w = \\begin{pmatrix}w_1\\\\ w_2\\\\ \\vdots \\\\w_d\\end{pmatrix}$ pour lui attribuer un score $s = \\langle w \\vert x\\rangle = \\sum_{i=1,\\dots,d}w_i.x_i$. Suite à ce score obtenu, on prends une décision:\n",
    "* si $s < c \\in \\mathbb{R}$, on choisit la classe $0$;\n",
    "* si $s \\geq c $, on choisit la classe $1$\n",
    "\n",
    "On peut écrire donc ce classifieur autrement:\n",
    "\n",
    "$$D_{perceptron}(x) \\triangleq \\mathbb{1}_{\\langle w \\vert x\\rangle + b \\geq 0}$$\n",
    "\n",
    "où $b = -c$ et $\\mathbb{1}_A(x) = \\begin{cases}1 & , x \\in A\\\\0 & , x \\notin A\\end{cases}$.\n",
    "\n",
    "Si on cherche à rammener les classes à la convention SVM (i.e. $y=\\pm1$), avec une simple transformation affine, on a:\n",
    "$$\\widetilde{D}_{perceptron}(x) \\triangleq 2.\\mathbb{1}_{\\langle w \\vert x \\rangle + b \\geq 0} - 1 = sign(\\langle w \\vert x \\rangle + b \\geq 0)$$\n",
    "\n",
    "### Comparaison\n",
    "\n",
    "On rappelle ici que le SVM linéaire a pour but de maximiser la marge entre deux classes, contrairement au Perceptron. Les problèmes à optimiser ne se ressemble plus.\n",
    "\n",
    "Le but du code, ci-dessous, est d'illustrer cette différence.\n",
    "\n",
    "1. Qu'est ce que fait ce bout de code?\n",
    "2. Commentez le résultat du programme suivant."
   ]
  },
  {
   "cell_type": "code",
   "execution_count": 39,
   "metadata": {},
   "outputs": [
    {
     "data": {
      "image/png": "[encoded data removed]",
      "text/plain": [
       "<matplotlib.figure.Figure at 0x7f73c50e3240>"
      ]
     },
     "metadata": {},
     "output_type": "display_data"
    }
   ],
   "source": [
    "%matplotlib inline\n",
    "\n",
    "import numpy as np\n",
    "import matplotlib.pyplot as plt\n",
    "\n",
    "import sklearn.datasets\n",
    "import sklearn.linear_model\n",
    "\n",
    "\n",
    "def plot_points(points, ax, color):\n",
    "    ax.scatter(points[:, 0], points[:, 1], c=color)\n",
    "    \n",
    "\n",
    "def plot_dataset(X, Y, ax):\n",
    "    for x, col in zip([X[Y==0], X[Y==1]], ['r', 'b']):\n",
    "        plot_points(x, ax, col)\n",
    "        \n",
    "\n",
    "def mesh_from(instances, gap=.2):\n",
    "    return np.meshgrid(\n",
    "        np.arange(X[:, 0].min() - 1, X[:, 0].max() + 1, gap),\n",
    "        np.arange(X[:, 1].min() - 1, X[:, 1].max() + 1, gap),\n",
    "    )\n",
    "\n",
    "\n",
    "def plot_contours(xx, yy, ax, classifier, **parameters):\n",
    "    Z = classifier.predict(np.c_[xx.ravel(), yy.ravel()])\n",
    "    Z = Z.reshape(xx.shape)\n",
    "    ax.contourf(xx, yy, Z, **parameters)\n",
    "\n",
    "\n",
    "X, Y = sklearn.datasets.make_blobs(n_samples=100, centers=2, random_state=0, cluster_std=0.60)\n",
    "xx, yy = mesh_from(X, .001)\n",
    "\n",
    "f, (ax1, ax2) = plt.subplots(1, 2, sharey=True)\n",
    "\n",
    "for ax, loss in zip([ax1, ax2], ['hinge', 'perceptron']):\n",
    "    plot_dataset(X, Y, ax)\n",
    "    plot_contours(\n",
    "        xx,\n",
    "        yy,\n",
    "        ax,\n",
    "        sklearn.linear_model.SGDClassifier(alpha=0.01, max_iter=100, loss=loss).fit(X, Y),\n",
    "        cmap=plt.cm.coolwarm,\n",
    "        alpha=0.8\n",
    "    )\n",
    "    ax.set_title('SVM' if loss == 'hinge' else loss)\n",
    "\n",
    "plt.show()"
   ]
  },
  {
   "cell_type": "markdown",
   "metadata": {},
   "source": [
    "Réponse"
   ]
  },
  {
   "cell_type": "markdown",
   "metadata": {},
   "source": [
    "### Pénalisation vs Généralisation"
   ]
  },
  {
   "cell_type": "code",
   "execution_count": null,
   "metadata": {},
   "outputs": [],
   "source": []
  },
  {
   "cell_type": "markdown",
   "metadata": {},
   "source": [
    "## Cross Validation\n",
    "\n",
    "C'est ...\n"
   ]
  },
  {
   "cell_type": "code",
   "execution_count": null,
   "metadata": {},
   "outputs": [],
   "source": [
    "import sklearn.model_selection\n",
    "\n"
   ]
  },
  {
   "cell_type": "markdown",
   "metadata": {},
   "source": [
    "## SVM vs Random Forest"
   ]
  },
  {
   "cell_type": "code",
   "execution_count": null,
   "metadata": {},
   "outputs": [],
   "source": []
  },
  {
   "cell_type": "markdown",
   "metadata": {},
   "source": [
    "## Selection d'attribut\n",
    "\n",
    "### OCS\n",
    "\n",
    "### Selectionner"
   ]
  },
  {
   "cell_type": "code",
   "execution_count": null,
   "metadata": {},
   "outputs": [],
   "source": []
  }
 ],
 "metadata": {
  "kernelspec": {
   "display_name": "Python 3",
   "language": "python",
   "name": "python3"
  },
  "language_info": {
   "codemirror_mode": {
    "name": "ipython",
    "version": 3
   },
   "file_extension": ".py",
   "mimetype": "text/x-python",
   "name": "python",
   "nbconvert_exporter": "python",
   "pygments_lexer": "ipython3",
   "version": "3.5.2"
  }
 },
 "nbformat": 4,
 "nbformat_minor": 2
}
